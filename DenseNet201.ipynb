{
 "cells": [
  {
   "cell_type": "markdown",
   "id": "4d7a69fc",
   "metadata": {
    "papermill": {
     "duration": 0.010008,
     "end_time": "2023-08-20T09:48:38.387499",
     "exception": false,
     "start_time": "2023-08-20T09:48:38.377491",
     "status": "completed"
    },
    "tags": []
   },
   "source": [
    "# Import needed libraries"
   ]
  },
  {
   "cell_type": "code",
   "execution_count": 17,
   "id": "8b70c14a",
   "metadata": {
    "execution": {
     "iopub.execute_input": "2023-08-20T09:48:38.409156Z",
     "iopub.status.busy": "2023-08-20T09:48:38.408329Z",
     "iopub.status.idle": "2023-08-20T09:48:47.746382Z",
     "shell.execute_reply": "2023-08-20T09:48:47.744189Z"
    },
    "papermill": {
     "duration": 9.351503,
     "end_time": "2023-08-20T09:48:47.748653",
     "exception": false,
     "start_time": "2023-08-20T09:48:38.397150",
     "status": "completed"
    },
    "tags": []
   },
   "outputs": [
    {
     "name": "stdout",
     "output_type": "stream",
     "text": [
      "modules loaded\n"
     ]
    }
   ],
   "source": [
    "import os\n",
    "import time\n",
    "import shutil\n",
    "import itertools\n",
    "\n",
    "import cv2\n",
    "import numpy as np\n",
    "import pandas as pd\n",
    "import seaborn as sns\n",
    "sns.set_style('darkgrid')\n",
    "import matplotlib.pyplot as plt\n",
    "\n",
    "import tensorflow as tf\n",
    "from tensorflow import keras\n",
    "from tensorflow.keras.layers import MaxPooling2D, Flatten, Dense, Activation, Dropout, BatchNormalization ,GlobalAveragePooling2D\n",
    "from tensorflow.keras.models import Model, load_model, Sequential\n",
    "from tensorflow.keras.preprocessing.image import ImageDataGenerator\n",
    "from sklearn.metrics import confusion_matrix, classification_report\n",
    "from sklearn.model_selection import train_test_split\n",
    "from tensorflow.keras.optimizers import Adam\n",
    "from tensorflow.keras import regularizers\n",
    "from keras import layers\n",
    "from tensorflow.keras.metrics import categorical_crossentropy\n",
    "\n",
    "import warnings\n",
    "warnings.filterwarnings(\"ignore\")\n",
    "\n",
    "print ('modules loaded')\n"
   ]
  },
  {
   "cell_type": "markdown",
   "id": "ca0b0cc6",
   "metadata": {
    "papermill": {
     "duration": 0.009033,
     "end_time": "2023-08-20T09:48:47.767904",
     "exception": false,
     "start_time": "2023-08-20T09:48:47.758871",
     "status": "completed"
    },
    "tags": []
   },
   "source": [
    "# Read data"
   ]
  },
  {
   "cell_type": "code",
   "execution_count": 2,
   "id": "a71d491d",
   "metadata": {
    "execution": {
     "iopub.execute_input": "2023-08-20T09:48:47.788946Z",
     "iopub.status.busy": "2023-08-20T09:48:47.787061Z",
     "iopub.status.idle": "2023-08-20T09:48:52.224422Z",
     "shell.execute_reply": "2023-08-20T09:48:52.223425Z"
    },
    "papermill": {
     "duration": 4.449875,
     "end_time": "2023-08-20T09:48:52.226926",
     "exception": false,
     "start_time": "2023-08-20T09:48:47.777051",
     "status": "completed"
    },
    "tags": []
   },
   "outputs": [
    {
     "data": {
      "text/html": [
       "<div>\n",
       "<style scoped>\n",
       "    .dataframe tbody tr th:only-of-type {\n",
       "        vertical-align: middle;\n",
       "    }\n",
       "\n",
       "    .dataframe tbody tr th {\n",
       "        vertical-align: top;\n",
       "    }\n",
       "\n",
       "    .dataframe thead th {\n",
       "        text-align: right;\n",
       "    }\n",
       "</style>\n",
       "<table border=\"1\" class=\"dataframe\">\n",
       "  <thead>\n",
       "    <tr style=\"text-align: right;\">\n",
       "      <th></th>\n",
       "      <th>pixel0000</th>\n",
       "      <th>pixel0001</th>\n",
       "      <th>pixel0002</th>\n",
       "      <th>pixel0003</th>\n",
       "      <th>pixel0004</th>\n",
       "      <th>pixel0005</th>\n",
       "      <th>pixel0006</th>\n",
       "      <th>pixel0007</th>\n",
       "      <th>pixel0008</th>\n",
       "      <th>pixel0009</th>\n",
       "      <th>...</th>\n",
       "      <th>pixel3063</th>\n",
       "      <th>pixel3064</th>\n",
       "      <th>pixel3065</th>\n",
       "      <th>pixel3066</th>\n",
       "      <th>pixel3067</th>\n",
       "      <th>pixel3068</th>\n",
       "      <th>pixel3069</th>\n",
       "      <th>pixel3070</th>\n",
       "      <th>pixel3071</th>\n",
       "      <th>label</th>\n",
       "    </tr>\n",
       "  </thead>\n",
       "  <tbody>\n",
       "    <tr>\n",
       "      <th>0</th>\n",
       "      <td>191</td>\n",
       "      <td>151</td>\n",
       "      <td>192</td>\n",
       "      <td>194</td>\n",
       "      <td>154</td>\n",
       "      <td>193</td>\n",
       "      <td>196</td>\n",
       "      <td>152</td>\n",
       "      <td>184</td>\n",
       "      <td>199</td>\n",
       "      <td>...</td>\n",
       "      <td>176</td>\n",
       "      <td>130</td>\n",
       "      <td>144</td>\n",
       "      <td>184</td>\n",
       "      <td>150</td>\n",
       "      <td>170</td>\n",
       "      <td>184</td>\n",
       "      <td>153</td>\n",
       "      <td>176</td>\n",
       "      <td>2</td>\n",
       "    </tr>\n",
       "    <tr>\n",
       "      <th>1</th>\n",
       "      <td>23</td>\n",
       "      <td>13</td>\n",
       "      <td>27</td>\n",
       "      <td>55</td>\n",
       "      <td>38</td>\n",
       "      <td>63</td>\n",
       "      <td>107</td>\n",
       "      <td>80</td>\n",
       "      <td>113</td>\n",
       "      <td>142</td>\n",
       "      <td>...</td>\n",
       "      <td>42</td>\n",
       "      <td>25</td>\n",
       "      <td>43</td>\n",
       "      <td>25</td>\n",
       "      <td>14</td>\n",
       "      <td>27</td>\n",
       "      <td>25</td>\n",
       "      <td>14</td>\n",
       "      <td>27</td>\n",
       "      <td>2</td>\n",
       "    </tr>\n",
       "    <tr>\n",
       "      <th>2</th>\n",
       "      <td>190</td>\n",
       "      <td>135</td>\n",
       "      <td>150</td>\n",
       "      <td>199</td>\n",
       "      <td>146</td>\n",
       "      <td>162</td>\n",
       "      <td>199</td>\n",
       "      <td>140</td>\n",
       "      <td>159</td>\n",
       "      <td>205</td>\n",
       "      <td>...</td>\n",
       "      <td>165</td>\n",
       "      <td>129</td>\n",
       "      <td>144</td>\n",
       "      <td>155</td>\n",
       "      <td>121</td>\n",
       "      <td>139</td>\n",
       "      <td>133</td>\n",
       "      <td>101</td>\n",
       "      <td>113</td>\n",
       "      <td>2</td>\n",
       "    </tr>\n",
       "    <tr>\n",
       "      <th>3</th>\n",
       "      <td>33</td>\n",
       "      <td>16</td>\n",
       "      <td>26</td>\n",
       "      <td>82</td>\n",
       "      <td>51</td>\n",
       "      <td>63</td>\n",
       "      <td>128</td>\n",
       "      <td>87</td>\n",
       "      <td>102</td>\n",
       "      <td>161</td>\n",
       "      <td>...</td>\n",
       "      <td>33</td>\n",
       "      <td>17</td>\n",
       "      <td>26</td>\n",
       "      <td>25</td>\n",
       "      <td>12</td>\n",
       "      <td>16</td>\n",
       "      <td>25</td>\n",
       "      <td>12</td>\n",
       "      <td>15</td>\n",
       "      <td>2</td>\n",
       "    </tr>\n",
       "    <tr>\n",
       "      <th>4</th>\n",
       "      <td>154</td>\n",
       "      <td>110</td>\n",
       "      <td>134</td>\n",
       "      <td>188</td>\n",
       "      <td>140</td>\n",
       "      <td>168</td>\n",
       "      <td>210</td>\n",
       "      <td>157</td>\n",
       "      <td>184</td>\n",
       "      <td>220</td>\n",
       "      <td>...</td>\n",
       "      <td>200</td>\n",
       "      <td>158</td>\n",
       "      <td>175</td>\n",
       "      <td>160</td>\n",
       "      <td>124</td>\n",
       "      <td>137</td>\n",
       "      <td>101</td>\n",
       "      <td>70</td>\n",
       "      <td>85</td>\n",
       "      <td>2</td>\n",
       "    </tr>\n",
       "  </tbody>\n",
       "</table>\n",
       "<p>5 rows × 3073 columns</p>\n",
       "</div>"
      ],
      "text/plain": [
       "   pixel0000  pixel0001  pixel0002  pixel0003  pixel0004  pixel0005  \\\n",
       "0        191        151        192        194        154        193   \n",
       "1         23         13         27         55         38         63   \n",
       "2        190        135        150        199        146        162   \n",
       "3         33         16         26         82         51         63   \n",
       "4        154        110        134        188        140        168   \n",
       "\n",
       "   pixel0006  pixel0007  pixel0008  pixel0009  ...  pixel3063  pixel3064  \\\n",
       "0        196        152        184        199  ...        176        130   \n",
       "1        107         80        113        142  ...         42         25   \n",
       "2        199        140        159        205  ...        165        129   \n",
       "3        128         87        102        161  ...         33         17   \n",
       "4        210        157        184        220  ...        200        158   \n",
       "\n",
       "   pixel3065  pixel3066  pixel3067  pixel3068  pixel3069  pixel3070  \\\n",
       "0        144        184        150        170        184        153   \n",
       "1         43         25         14         27         25         14   \n",
       "2        144        155        121        139        133        101   \n",
       "3         26         25         12         16         25         12   \n",
       "4        175        160        124        137        101         70   \n",
       "\n",
       "   pixel3071  label  \n",
       "0        176      2  \n",
       "1         27      2  \n",
       "2        113      2  \n",
       "3         15      2  \n",
       "4         85      2  \n",
       "\n",
       "[5 rows x 3073 columns]"
      ]
     },
     "execution_count": 2,
     "metadata": {},
     "output_type": "execute_result"
    }
   ],
   "source": [
    "data_dir = 'C:/Users/pr503/Projects/skinn/hmnist_32_32_RGB.csv'\n",
    "data = pd.read_csv(data_dir)\n",
    "data.head()"
   ]
  },
  {
   "cell_type": "markdown",
   "id": "c6befee8",
   "metadata": {
    "papermill": {
     "duration": 0.009722,
     "end_time": "2023-08-20T09:48:52.247324",
     "exception": false,
     "start_time": "2023-08-20T09:48:52.237602",
     "status": "completed"
    },
    "tags": []
   },
   "source": [
    "**Split data and labels**"
   ]
  },
  {
   "cell_type": "code",
   "execution_count": 3,
   "id": "5ead1bee",
   "metadata": {
    "execution": {
     "iopub.execute_input": "2023-08-20T09:48:52.267940Z",
     "iopub.status.busy": "2023-08-20T09:48:52.267628Z",
     "iopub.status.idle": "2023-08-20T09:48:52.331475Z",
     "shell.execute_reply": "2023-08-20T09:48:52.330252Z"
    },
    "papermill": {
     "duration": 0.077241,
     "end_time": "2023-08-20T09:48:52.334300",
     "exception": false,
     "start_time": "2023-08-20T09:48:52.257059",
     "status": "completed"
    },
    "tags": []
   },
   "outputs": [],
   "source": [
    "Label = data[\"label\"]\n",
    "Data = data.drop(columns=[\"label\"])"
   ]
  },
  {
   "cell_type": "code",
   "execution_count": 4,
   "id": "2b14d684",
   "metadata": {
    "execution": {
     "iopub.execute_input": "2023-08-20T09:48:52.355827Z",
     "iopub.status.busy": "2023-08-20T09:48:52.355491Z",
     "iopub.status.idle": "2023-08-20T09:48:52.366377Z",
     "shell.execute_reply": "2023-08-20T09:48:52.365311Z"
    },
    "papermill": {
     "duration": 0.024426,
     "end_time": "2023-08-20T09:48:52.368719",
     "exception": false,
     "start_time": "2023-08-20T09:48:52.344293",
     "status": "completed"
    },
    "tags": []
   },
   "outputs": [
    {
     "data": {
      "text/plain": [
       "label\n",
       "4    6705\n",
       "6    1113\n",
       "2    1099\n",
       "1     514\n",
       "0     327\n",
       "5     142\n",
       "3     115\n",
       "Name: count, dtype: int64"
      ]
     },
     "execution_count": 4,
     "metadata": {},
     "output_type": "execute_result"
    }
   ],
   "source": [
    "data[\"label\"].value_counts()"
   ]
  },
  {
   "cell_type": "markdown",
   "id": "a0036d7e",
   "metadata": {
    "papermill": {
     "duration": 0.010117,
     "end_time": "2023-08-20T09:48:52.389110",
     "exception": false,
     "start_time": "2023-08-20T09:48:52.378993",
     "status": "completed"
    },
    "tags": []
   },
   "source": [
    "We have imbalance in the data"
   ]
  },
  {
   "cell_type": "markdown",
   "id": "b46eaf47",
   "metadata": {
    "papermill": {
     "duration": 0.010042,
     "end_time": "2023-08-20T09:48:52.409164",
     "exception": false,
     "start_time": "2023-08-20T09:48:52.399122",
     "status": "completed"
    },
    "tags": []
   },
   "source": [
    "**Handling imbalanced datasets**"
   ]
  },
  {
   "cell_type": "code",
   "execution_count": 5,
   "id": "d39bda6f",
   "metadata": {
    "execution": {
     "iopub.execute_input": "2023-08-20T09:48:52.429679Z",
     "iopub.status.busy": "2023-08-20T09:48:52.429369Z",
     "iopub.status.idle": "2023-08-20T09:48:55.840004Z",
     "shell.execute_reply": "2023-08-20T09:48:55.839015Z"
    },
    "papermill": {
     "duration": 3.423748,
     "end_time": "2023-08-20T09:48:55.842454",
     "exception": false,
     "start_time": "2023-08-20T09:48:52.418706",
     "status": "completed"
    },
    "tags": []
   },
   "outputs": [
    {
     "name": "stdout",
     "output_type": "stream",
     "text": [
      "Shape of Data : (46935, 32, 32, 3)\n"
     ]
    }
   ],
   "source": [
    "from imblearn.over_sampling import RandomOverSampler \n",
    "\n",
    "oversample = RandomOverSampler()\n",
    "Data, Label  = oversample.fit_resample(Data, Label)\n",
    "Data = np.array(Data).reshape(-1, 32, 32, 3)\n",
    "print('Shape of Data :', Data.shape)"
   ]
  },
  {
   "cell_type": "code",
   "execution_count": 6,
   "id": "35e9a25f",
   "metadata": {
    "execution": {
     "iopub.execute_input": "2023-08-20T09:48:55.864960Z",
     "iopub.status.busy": "2023-08-20T09:48:55.863326Z",
     "iopub.status.idle": "2023-08-20T09:48:55.871001Z",
     "shell.execute_reply": "2023-08-20T09:48:55.870004Z"
    },
    "papermill": {
     "duration": 0.020547,
     "end_time": "2023-08-20T09:48:55.873140",
     "exception": false,
     "start_time": "2023-08-20T09:48:55.852593",
     "status": "completed"
    },
    "tags": []
   },
   "outputs": [
    {
     "data": {
      "text/plain": [
       "array([2, 2, 2, ..., 6, 6, 6], dtype=int64)"
      ]
     },
     "execution_count": 6,
     "metadata": {},
     "output_type": "execute_result"
    }
   ],
   "source": [
    "Label = np.array(Label)\n",
    "Label"
   ]
  },
  {
   "cell_type": "markdown",
   "id": "9ef2bcb6",
   "metadata": {
    "papermill": {
     "duration": 0.009367,
     "end_time": "2023-08-20T09:48:55.892279",
     "exception": false,
     "start_time": "2023-08-20T09:48:55.882912",
     "status": "completed"
    },
    "tags": []
   },
   "source": [
    "**Convert abbreviations to it's words**"
   ]
  },
  {
   "cell_type": "code",
   "execution_count": 7,
   "id": "5d4e46e9",
   "metadata": {
    "execution": {
     "iopub.execute_input": "2023-08-20T09:48:55.913207Z",
     "iopub.status.busy": "2023-08-20T09:48:55.912923Z",
     "iopub.status.idle": "2023-08-20T09:48:55.918014Z",
     "shell.execute_reply": "2023-08-20T09:48:55.917058Z"
    },
    "papermill": {
     "duration": 0.017782,
     "end_time": "2023-08-20T09:48:55.920078",
     "exception": false,
     "start_time": "2023-08-20T09:48:55.902296",
     "status": "completed"
    },
    "tags": []
   },
   "outputs": [],
   "source": [
    "classes = {4: ('nv', ' melanocytic nevi'),\n",
    "           6: ('mel', 'melanoma'),\n",
    "           2 :('bkl', 'benign keratosis-like lesions'), \n",
    "           1:('bcc' , ' basal cell carcinoma'),\n",
    "           0: ('akiec', 'Actinic keratoses and intraepithelial carcinomae'),\n",
    "           5: ('vasc', ' pyogenic granulomas and hemorrhage'),\n",
    "           3: ('df', 'dermatofibroma')}"
   ]
  },
  {
   "cell_type": "markdown",
   "id": "71224c4f",
   "metadata": {
    "papermill": {
     "duration": 0.009439,
     "end_time": "2023-08-20T09:48:55.939264",
     "exception": false,
     "start_time": "2023-08-20T09:48:55.929825",
     "status": "completed"
    },
    "tags": []
   },
   "source": [
    "# train_test_split"
   ]
  },
  {
   "cell_type": "code",
   "execution_count": 8,
   "id": "a14ce232",
   "metadata": {
    "execution": {
     "iopub.execute_input": "2023-08-20T09:48:55.960351Z",
     "iopub.status.busy": "2023-08-20T09:48:55.960015Z",
     "iopub.status.idle": "2023-08-20T09:48:57.254321Z",
     "shell.execute_reply": "2023-08-20T09:48:57.253325Z"
    },
    "papermill": {
     "duration": 1.307679,
     "end_time": "2023-08-20T09:48:57.256750",
     "exception": false,
     "start_time": "2023-08-20T09:48:55.949071",
     "status": "completed"
    },
    "tags": []
   },
   "outputs": [],
   "source": [
    "from sklearn.model_selection import train_test_split\n",
    "\n",
    "X_train , X_test , y_train , y_test = train_test_split(Data , Label , test_size = 0.25 , random_state = 49)"
   ]
  },
  {
   "cell_type": "code",
   "execution_count": 9,
   "id": "fa15d6a7",
   "metadata": {
    "execution": {
     "iopub.execute_input": "2023-08-20T09:48:57.280302Z",
     "iopub.status.busy": "2023-08-20T09:48:57.279965Z",
     "iopub.status.idle": "2023-08-20T09:48:57.286083Z",
     "shell.execute_reply": "2023-08-20T09:48:57.284804Z"
    },
    "papermill": {
     "duration": 0.019906,
     "end_time": "2023-08-20T09:48:57.288324",
     "exception": false,
     "start_time": "2023-08-20T09:48:57.268418",
     "status": "completed"
    },
    "tags": []
   },
   "outputs": [
    {
     "name": "stdout",
     "output_type": "stream",
     "text": [
      "(35201, 32, 32, 3)\n",
      "(35201,)\n",
      "(11734, 32, 32, 3)\n",
      "(11734,)\n"
     ]
    }
   ],
   "source": [
    "print(X_train.shape)\n",
    "print(y_train.shape)\n",
    "print(X_test.shape)\n",
    "print(y_test.shape)"
   ]
  },
  {
   "cell_type": "markdown",
   "id": "fb9a2067",
   "metadata": {
    "papermill": {
     "duration": 0.009492,
     "end_time": "2023-08-20T09:48:57.307669",
     "exception": false,
     "start_time": "2023-08-20T09:48:57.298177",
     "status": "completed"
    },
    "tags": []
   },
   "source": [
    "**Convert labels to categorical types**"
   ]
  },
  {
   "cell_type": "code",
   "execution_count": 10,
   "id": "4e2a0490",
   "metadata": {
    "execution": {
     "iopub.execute_input": "2023-08-20T09:48:57.328569Z",
     "iopub.status.busy": "2023-08-20T09:48:57.328270Z",
     "iopub.status.idle": "2023-08-20T09:48:57.335239Z",
     "shell.execute_reply": "2023-08-20T09:48:57.334254Z"
    },
    "papermill": {
     "duration": 0.019841,
     "end_time": "2023-08-20T09:48:57.337412",
     "exception": false,
     "start_time": "2023-08-20T09:48:57.317571",
     "status": "completed"
    },
    "tags": []
   },
   "outputs": [],
   "source": [
    "from keras.utils import to_categorical\n",
    "\n",
    "y_train = to_categorical(y_train)\n",
    "y_test = to_categorical(y_test)"
   ]
  },
  {
   "cell_type": "markdown",
   "id": "91c0c9ff",
   "metadata": {
    "papermill": {
     "duration": 0.009909,
     "end_time": "2023-08-20T09:48:57.357978",
     "exception": false,
     "start_time": "2023-08-20T09:48:57.348069",
     "status": "completed"
    },
    "tags": []
   },
   "source": [
    "**Create Image Data Generation**"
   ]
  },
  {
   "cell_type": "code",
   "execution_count": 11,
   "id": "7317c407",
   "metadata": {
    "execution": {
     "iopub.execute_input": "2023-08-20T09:48:57.379488Z",
     "iopub.status.busy": "2023-08-20T09:48:57.379176Z",
     "iopub.status.idle": "2023-08-20T09:48:57.384336Z",
     "shell.execute_reply": "2023-08-20T09:48:57.383319Z"
    },
    "papermill": {
     "duration": 0.018708,
     "end_time": "2023-08-20T09:48:57.386721",
     "exception": false,
     "start_time": "2023-08-20T09:48:57.368013",
     "status": "completed"
    },
    "tags": []
   },
   "outputs": [],
   "source": [
    "datagen = ImageDataGenerator(rescale=(1./255)\n",
    "                             ,rotation_range=10\n",
    "                             ,zoom_range = 0.1\n",
    "                             ,width_shift_range=0.1\n",
    "                             ,height_shift_range=0.1)\n",
    "\n",
    "testgen = ImageDataGenerator(rescale=(1./255))"
   ]
  },
  {
   "cell_type": "markdown",
   "id": "0b40db2f",
   "metadata": {
    "papermill": {
     "duration": 0.009451,
     "end_time": "2023-08-20T09:48:57.405861",
     "exception": false,
     "start_time": "2023-08-20T09:48:57.396410",
     "status": "completed"
    },
    "tags": []
   },
   "source": [
    "**Create ReduceLROnPlateau to learning rate reduction**"
   ]
  },
  {
   "cell_type": "code",
   "execution_count": 12,
   "id": "8103581f",
   "metadata": {
    "execution": {
     "iopub.execute_input": "2023-08-20T09:48:57.426406Z",
     "iopub.status.busy": "2023-08-20T09:48:57.426117Z",
     "iopub.status.idle": "2023-08-20T09:48:57.432344Z",
     "shell.execute_reply": "2023-08-20T09:48:57.431317Z"
    },
    "papermill": {
     "duration": 0.018871,
     "end_time": "2023-08-20T09:48:57.434408",
     "exception": false,
     "start_time": "2023-08-20T09:48:57.415537",
     "status": "completed"
    },
    "tags": []
   },
   "outputs": [],
   "source": [
    "from keras.callbacks import ReduceLROnPlateau\n",
    "\n",
    "learning_rate_reduction = ReduceLROnPlateau(monitor='val_accuracy'\n",
    "                                            , patience = 1\n",
    "                                            , verbose=1\n",
    "                                            ,factor=0.5\n",
    "                                            , min_lr=0.00001)"
   ]
  },
  {
   "cell_type": "code",
   "execution_count": 13,
   "id": "8cb295d6",
   "metadata": {},
   "outputs": [],
   "source": [
    "from keras.applications import DenseNet201\n",
    "from keras import layers , Model"
   ]
  },
  {
   "cell_type": "code",
   "execution_count": 14,
   "id": "aba24d94",
   "metadata": {},
   "outputs": [],
   "source": [
    "densenet = DenseNet201(weights='imagenet',include_top=False,input_shape=(32,32,3))"
   ]
  },
  {
   "cell_type": "markdown",
   "id": "374d2355",
   "metadata": {
    "papermill": {
     "duration": 0.00941,
     "end_time": "2023-08-20T09:48:57.453456",
     "exception": false,
     "start_time": "2023-08-20T09:48:57.444046",
     "status": "completed"
    },
    "tags": []
   },
   "source": [
    "# Model Structure"
   ]
  },
  {
   "cell_type": "code",
   "execution_count": 21,
   "id": "03239f85",
   "metadata": {
    "execution": {
     "iopub.execute_input": "2023-08-20T09:48:57.475294Z",
     "iopub.status.busy": "2023-08-20T09:48:57.474509Z",
     "iopub.status.idle": "2023-08-20T09:49:00.565489Z",
     "shell.execute_reply": "2023-08-20T09:49:00.564612Z"
    },
    "papermill": {
     "duration": 3.152221,
     "end_time": "2023-08-20T09:49:00.615506",
     "exception": false,
     "start_time": "2023-08-20T09:48:57.463285",
     "status": "completed"
    },
    "tags": []
   },
   "outputs": [
    {
     "name": "stderr",
     "output_type": "stream",
     "text": [
      "WARNING:absl:`lr` is deprecated in Keras optimizer, please use `learning_rate` or use the legacy optimizer, e.g.,tf.keras.optimizers.legacy.Adam.\n"
     ]
    }
   ],
   "source": [
    "x = densenet.output\n",
    "x = GlobalAveragePooling2D()(x)\n",
    "x = Dense(256, activation='relu')(x)\n",
    "predictions = Dense(7, activation='softmax')(x)  # Assuming 7 classes in HAM10000 dataset\n",
    "\n",
    "model = Model(inputs=densenet.input, outputs=predictions)\n",
    "\n",
    "for layer in densenet.layers:\n",
    "    layer.trainable = False\n",
    "\n",
    "model.compile(loss='categorical_crossentropy', optimizer=Adam(lr=0.001), metrics=['accuracy'])"
   ]
  },
  {
   "cell_type": "markdown",
   "id": "8c7e4fba",
   "metadata": {
    "papermill": {
     "duration": 0.015013,
     "end_time": "2023-08-20T09:49:00.645864",
     "exception": false,
     "start_time": "2023-08-20T09:49:00.630851",
     "status": "completed"
    },
    "tags": []
   },
   "source": [
    "**Training model**"
   ]
  },
  {
   "cell_type": "code",
   "execution_count": 22,
   "id": "bf50f1e7",
   "metadata": {
    "execution": {
     "iopub.execute_input": "2023-08-20T09:49:00.677280Z",
     "iopub.status.busy": "2023-08-20T09:49:00.676919Z",
     "iopub.status.idle": "2023-08-20T09:51:27.031009Z",
     "shell.execute_reply": "2023-08-20T09:51:27.029929Z"
    },
    "papermill": {
     "duration": 146.373087,
     "end_time": "2023-08-20T09:51:27.033852",
     "exception": false,
     "start_time": "2023-08-20T09:49:00.660765",
     "status": "completed"
    },
    "scrolled": true,
    "tags": []
   },
   "outputs": [
    {
     "name": "stdout",
     "output_type": "stream",
     "text": [
      "Epoch 1/25\n",
      "276/276 [==============================] - 222s 747ms/step - loss: 1.1451 - accuracy: 0.6036 - val_loss: 1.1969 - val_accuracy: 0.5731 - lr: 0.0010\n",
      "Epoch 2/25\n",
      "276/276 [==============================] - 208s 754ms/step - loss: 0.7249 - accuracy: 0.7499 - val_loss: 0.7408 - val_accuracy: 0.7302 - lr: 0.0010\n",
      "Epoch 3/25\n",
      "276/276 [==============================] - 204s 738ms/step - loss: 0.5345 - accuracy: 0.8182 - val_loss: 0.4631 - val_accuracy: 0.8461 - lr: 0.0010\n",
      "Epoch 4/25\n",
      "276/276 [==============================] - 206s 747ms/step - loss: 0.4124 - accuracy: 0.8617 - val_loss: 0.3999 - val_accuracy: 0.8660 - lr: 0.0010\n",
      "Epoch 5/25\n",
      "276/276 [==============================] - ETA: 0s - loss: 0.3352 - accuracy: 0.8920\n",
      "Epoch 5: ReduceLROnPlateau reducing learning rate to 0.0005000000237487257.\n",
      "276/276 [==============================] - 195s 708ms/step - loss: 0.3352 - accuracy: 0.8920 - val_loss: 0.7100 - val_accuracy: 0.7807 - lr: 0.0010\n",
      "Epoch 6/25\n",
      "276/276 [==============================] - 204s 738ms/step - loss: 0.2805 - accuracy: 0.9162 - val_loss: 0.2723 - val_accuracy: 0.9224 - lr: 5.0000e-04\n",
      "Epoch 7/25\n",
      "276/276 [==============================] - 206s 747ms/step - loss: 0.2198 - accuracy: 0.9381 - val_loss: 0.2467 - val_accuracy: 0.9269 - lr: 5.0000e-04\n",
      "Epoch 8/25\n",
      "276/276 [==============================] - 210s 761ms/step - loss: 0.1987 - accuracy: 0.9433 - val_loss: 0.2226 - val_accuracy: 0.9361 - lr: 5.0000e-04\n",
      "Epoch 9/25\n",
      "276/276 [==============================] - 209s 758ms/step - loss: 0.1767 - accuracy: 0.9513 - val_loss: 0.2085 - val_accuracy: 0.9363 - lr: 5.0000e-04\n",
      "Epoch 10/25\n",
      "275/276 [============================>.] - ETA: 0s - loss: 0.1561 - accuracy: 0.9570\n",
      "Epoch 10: ReduceLROnPlateau reducing learning rate to 0.0002500000118743628.\n",
      "276/276 [==============================] - 208s 756ms/step - loss: 0.1562 - accuracy: 0.9570 - val_loss: 0.7396 - val_accuracy: 0.7503 - lr: 5.0000e-04\n",
      "Epoch 11/25\n",
      "276/276 [==============================] - 235s 853ms/step - loss: 0.1865 - accuracy: 0.9487 - val_loss: 0.1662 - val_accuracy: 0.9531 - lr: 2.5000e-04\n",
      "Epoch 12/25\n",
      "276/276 [==============================] - 244s 884ms/step - loss: 0.1194 - accuracy: 0.9709 - val_loss: 0.1608 - val_accuracy: 0.9539 - lr: 2.5000e-04\n",
      "Epoch 13/25\n",
      "276/276 [==============================] - 238s 864ms/step - loss: 0.1118 - accuracy: 0.9744 - val_loss: 0.1569 - val_accuracy: 0.9550 - lr: 2.5000e-04\n",
      "Epoch 14/25\n",
      "276/276 [==============================] - 244s 887ms/step - loss: 0.1057 - accuracy: 0.9747 - val_loss: 0.1504 - val_accuracy: 0.9576 - lr: 2.5000e-04\n",
      "Epoch 15/25\n",
      "276/276 [==============================] - ETA: 0s - loss: 0.1009 - accuracy: 0.9762\n",
      "Epoch 15: ReduceLROnPlateau reducing learning rate to 0.0001250000059371814.\n",
      "276/276 [==============================] - 239s 868ms/step - loss: 0.1009 - accuracy: 0.9762 - val_loss: 0.2699 - val_accuracy: 0.9138 - lr: 2.5000e-04\n",
      "Epoch 16/25\n",
      "276/276 [==============================] - 236s 855ms/step - loss: 0.1057 - accuracy: 0.9734 - val_loss: 0.1316 - val_accuracy: 0.9644 - lr: 1.2500e-04\n",
      "Epoch 17/25\n",
      "276/276 [==============================] - ETA: 0s - loss: 0.0851 - accuracy: 0.9819\n",
      "Epoch 17: ReduceLROnPlateau reducing learning rate to 6.25000029685907e-05.\n",
      "276/276 [==============================] - 229s 832ms/step - loss: 0.0851 - accuracy: 0.9819 - val_loss: 0.1323 - val_accuracy: 0.9632 - lr: 1.2500e-04\n",
      "Epoch 18/25\n",
      "276/276 [==============================] - 229s 831ms/step - loss: 0.0801 - accuracy: 0.9834 - val_loss: 0.1278 - val_accuracy: 0.9653 - lr: 6.2500e-05\n",
      "Epoch 19/25\n",
      "276/276 [==============================] - 225s 816ms/step - loss: 0.0785 - accuracy: 0.9838 - val_loss: 0.1251 - val_accuracy: 0.9660 - lr: 6.2500e-05\n",
      "Epoch 20/25\n",
      "276/276 [==============================] - ETA: 0s - loss: 0.0768 - accuracy: 0.9844\n",
      "Epoch 20: ReduceLROnPlateau reducing learning rate to 3.125000148429535e-05.\n",
      "276/276 [==============================] - 226s 818ms/step - loss: 0.0768 - accuracy: 0.9844 - val_loss: 0.1260 - val_accuracy: 0.9642 - lr: 6.2500e-05\n",
      "Epoch 21/25\n",
      "276/276 [==============================] - 223s 810ms/step - loss: 0.0756 - accuracy: 0.9843 - val_loss: 0.1245 - val_accuracy: 0.9666 - lr: 3.1250e-05\n",
      "Epoch 22/25\n",
      "276/276 [==============================] - ETA: 0s - loss: 0.0731 - accuracy: 0.9859\n",
      "Epoch 22: ReduceLROnPlateau reducing learning rate to 1.5625000742147677e-05.\n",
      "276/276 [==============================] - 226s 818ms/step - loss: 0.0731 - accuracy: 0.9859 - val_loss: 0.1230 - val_accuracy: 0.9661 - lr: 3.1250e-05\n",
      "Epoch 23/25\n",
      "276/276 [==============================] - 224s 812ms/step - loss: 0.0717 - accuracy: 0.9858 - val_loss: 0.1217 - val_accuracy: 0.9672 - lr: 1.5625e-05\n",
      "Epoch 24/25\n",
      "276/276 [==============================] - ETA: 0s - loss: 0.0711 - accuracy: 0.9863\n",
      "Epoch 24: ReduceLROnPlateau reducing learning rate to 1e-05.\n",
      "276/276 [==============================] - 230s 833ms/step - loss: 0.0711 - accuracy: 0.9863 - val_loss: 0.1215 - val_accuracy: 0.9664 - lr: 1.5625e-05\n",
      "Epoch 25/25\n",
      "276/276 [==============================] - 225s 816ms/step - loss: 0.0706 - accuracy: 0.9864 - val_loss: 0.1206 - val_accuracy: 0.9674 - lr: 1.0000e-05\n"
     ]
    }
   ],
   "source": [
    "history = model.fit(X_train ,\n",
    "                    y_train ,\n",
    "                    epochs=25 ,\n",
    "                    batch_size=128,\n",
    "                    validation_data=(X_test , y_test) ,\n",
    "                    callbacks=[learning_rate_reduction])"
   ]
  },
  {
   "cell_type": "markdown",
   "id": "3f57848e",
   "metadata": {
    "papermill": {
     "duration": 0.128441,
     "end_time": "2023-08-20T09:51:27.289894",
     "exception": false,
     "start_time": "2023-08-20T09:51:27.161453",
     "status": "completed"
    },
    "tags": []
   },
   "source": [
    "**Show training history**"
   ]
  },
  {
   "cell_type": "code",
   "execution_count": 23,
   "id": "88d71ad7",
   "metadata": {
    "execution": {
     "iopub.execute_input": "2023-08-20T09:51:27.549415Z",
     "iopub.status.busy": "2023-08-20T09:51:27.549052Z",
     "iopub.status.idle": "2023-08-20T09:51:27.559773Z",
     "shell.execute_reply": "2023-08-20T09:51:27.558844Z"
    },
    "papermill": {
     "duration": 0.142572,
     "end_time": "2023-08-20T09:51:27.561737",
     "exception": false,
     "start_time": "2023-08-20T09:51:27.419165",
     "status": "completed"
    },
    "tags": []
   },
   "outputs": [],
   "source": [
    "def plot_training(hist):\n",
    "    tr_acc = hist.history['accuracy']\n",
    "    tr_loss = hist.history['loss']\n",
    "    val_acc = hist.history['val_accuracy']\n",
    "    val_loss = hist.history['val_loss']\n",
    "    index_loss = np.argmin(val_loss)\n",
    "    val_lowest = val_loss[index_loss]\n",
    "    index_acc = np.argmax(val_acc)\n",
    "    acc_highest = val_acc[index_acc]\n",
    "\n",
    "    plt.figure(figsize= (20, 8))\n",
    "    plt.style.use('fivethirtyeight')\n",
    "    Epochs = [i+1 for i in range(len(tr_acc))]\n",
    "    loss_label = f'best epoch= {str(index_loss + 1)}'\n",
    "    acc_label = f'best epoch= {str(index_acc + 1)}'\n",
    "    \n",
    "    plt.subplot(1, 2, 1)\n",
    "    plt.plot(Epochs, tr_loss, 'r', label= 'Training loss')\n",
    "    plt.plot(Epochs, val_loss, 'g', label= 'Validation loss')\n",
    "    plt.scatter(index_loss + 1, val_lowest, s= 150, c= 'blue', label= loss_label)\n",
    "    plt.title('Training and Validation Loss')\n",
    "    plt.xlabel('Epochs')\n",
    "    plt.ylabel('Loss')\n",
    "    plt.legend()\n",
    "    \n",
    "    plt.subplot(1, 2, 2)\n",
    "    plt.plot(Epochs, tr_acc, 'r', label= 'Training Accuracy')\n",
    "    plt.plot(Epochs, val_acc, 'g', label= 'Validation Accuracy')\n",
    "    plt.scatter(index_acc + 1 , acc_highest, s= 150, c= 'blue', label= acc_label)\n",
    "    plt.title('Training and Validation Accuracy')\n",
    "    plt.xlabel('Epochs')\n",
    "    plt.ylabel('Accuracy')\n",
    "    plt.legend()\n",
    "    \n",
    "    plt.tight_layout\n",
    "    plt.show()\n",
    "    "
   ]
  },
  {
   "cell_type": "code",
   "execution_count": 24,
   "id": "48b45d17",
   "metadata": {
    "execution": {
     "iopub.execute_input": "2023-08-20T09:51:27.819314Z",
     "iopub.status.busy": "2023-08-20T09:51:27.818314Z",
     "iopub.status.idle": "2023-08-20T09:51:28.608435Z",
     "shell.execute_reply": "2023-08-20T09:51:28.607476Z"
    },
    "papermill": {
     "duration": 0.920291,
     "end_time": "2023-08-20T09:51:28.610495",
     "exception": false,
     "start_time": "2023-08-20T09:51:27.690204",
     "status": "completed"
    },
    "tags": []
   },
   "outputs": [
    {
     "data": {
      "image/png": "[encoded data removed]",
      "text/plain": [
       "<Figure size 2000x800 with 2 Axes>"
      ]
     },
     "metadata": {},
     "output_type": "display_data"
    }
   ],
   "source": [
    "plot_training(history)"
   ]
  },
  {
   "cell_type": "markdown",
   "id": "875f21ff",
   "metadata": {
    "papermill": {
     "duration": 0.129691,
     "end_time": "2023-08-20T09:51:28.871217",
     "exception": false,
     "start_time": "2023-08-20T09:51:28.741526",
     "status": "completed"
    },
    "tags": []
   },
   "source": [
    "# Model Evaluation"
   ]
  },
  {
   "cell_type": "code",
   "execution_count": 25,
   "id": "5aa0b622",
   "metadata": {
    "execution": {
     "iopub.execute_input": "2023-08-20T09:51:29.129953Z",
     "iopub.status.busy": "2023-08-20T09:51:29.129580Z",
     "iopub.status.idle": "2023-08-20T09:51:37.760566Z",
     "shell.execute_reply": "2023-08-20T09:51:37.759521Z"
    },
    "papermill": {
     "duration": 8.762961,
     "end_time": "2023-08-20T09:51:37.762699",
     "exception": false,
     "start_time": "2023-08-20T09:51:28.999738",
     "status": "completed"
    },
    "tags": []
   },
   "outputs": [
    {
     "name": "stdout",
     "output_type": "stream",
     "text": [
      "1101/1101 [==============================] - 330s 300ms/step - loss: 0.0699 - accuracy: 0.9870\n",
      "367/367 [==============================] - 84s 228ms/step - loss: 0.1206 - accuracy: 0.9674\n",
      "Train Loss:  0.0699114054441452\n",
      "Train Accuracy:  0.9870458245277405\n",
      "--------------------\n",
      "Test Loss:  0.1205868273973465\n",
      "Test Accuracy:  0.9673597812652588\n"
     ]
    }
   ],
   "source": [
    "train_score = model.evaluate(X_train, y_train, verbose= 1)\n",
    "test_score = model.evaluate(X_test, y_test, verbose= 1)\n",
    "\n",
    "print(\"Train Loss: \", train_score[0])\n",
    "print(\"Train Accuracy: \", train_score[1])\n",
    "print('-' * 20)\n",
    "print(\"Test Loss: \", test_score[0])\n",
    "print(\"Test Accuracy: \", test_score[1])"
   ]
  },
  {
   "cell_type": "code",
   "execution_count": 26,
   "id": "86d8ed7d",
   "metadata": {
    "execution": {
     "iopub.execute_input": "2023-08-20T09:51:38.045199Z",
     "iopub.status.busy": "2023-08-20T09:51:38.044232Z",
     "iopub.status.idle": "2023-08-20T09:51:39.966379Z",
     "shell.execute_reply": "2023-08-20T09:51:39.965332Z"
    },
    "papermill": {
     "duration": 2.067561,
     "end_time": "2023-08-20T09:51:39.969167",
     "exception": false,
     "start_time": "2023-08-20T09:51:37.901606",
     "status": "completed"
    },
    "tags": []
   },
   "outputs": [
    {
     "name": "stdout",
     "output_type": "stream",
     "text": [
      "367/367 [==============================] - 80s 204ms/step\n"
     ]
    }
   ],
   "source": [
    "y_true = np.array(y_test)\n",
    "y_pred = model.predict(X_test)\n",
    "\n",
    "y_pred = np.argmax(y_pred , axis=1)\n",
    "y_true = np.argmax(y_true , axis=1)"
   ]
  },
  {
   "cell_type": "markdown",
   "id": "ff83020f",
   "metadata": {
    "papermill": {
     "duration": 0.138809,
     "end_time": "2023-08-20T09:51:40.246360",
     "exception": false,
     "start_time": "2023-08-20T09:51:40.107551",
     "status": "completed"
    },
    "tags": []
   },
   "source": [
    "**Create classes labels**"
   ]
  },
  {
   "cell_type": "code",
   "execution_count": 27,
   "id": "ea0e3e23",
   "metadata": {
    "execution": {
     "iopub.execute_input": "2023-08-20T09:51:40.581205Z",
     "iopub.status.busy": "2023-08-20T09:51:40.580801Z",
     "iopub.status.idle": "2023-08-20T09:51:40.586539Z",
     "shell.execute_reply": "2023-08-20T09:51:40.585501Z"
    },
    "papermill": {
     "duration": 0.149496,
     "end_time": "2023-08-20T09:51:40.590282",
     "exception": false,
     "start_time": "2023-08-20T09:51:40.440786",
     "status": "completed"
    },
    "tags": []
   },
   "outputs": [
    {
     "name": "stdout",
     "output_type": "stream",
     "text": [
      "[4, 6, 2, 1, 0, 5, 3]\n"
     ]
    }
   ],
   "source": [
    "classes_labels = []\n",
    "for key in classes.keys():\n",
    "    classes_labels.append(key)\n",
    "\n",
    "print(classes_labels)"
   ]
  },
  {
   "cell_type": "markdown",
   "id": "df527c94",
   "metadata": {
    "papermill": {
     "duration": 0.139827,
     "end_time": "2023-08-20T09:51:40.869905",
     "exception": false,
     "start_time": "2023-08-20T09:51:40.730078",
     "status": "completed"
    },
    "tags": []
   },
   "source": [
    "**Confussion Matrix**"
   ]
  },
  {
   "cell_type": "code",
   "execution_count": 28,
   "id": "01287a51",
   "metadata": {
    "execution": {
     "iopub.execute_input": "2023-08-20T09:51:41.149286Z",
     "iopub.status.busy": "2023-08-20T09:51:41.148927Z",
     "iopub.status.idle": "2023-08-20T09:51:41.789804Z",
     "shell.execute_reply": "2023-08-20T09:51:41.788729Z"
    },
    "papermill": {
     "duration": 0.783219,
     "end_time": "2023-08-20T09:51:41.792253",
     "exception": false,
     "start_time": "2023-08-20T09:51:41.009034",
     "status": "completed"
    },
    "tags": []
   },
   "outputs": [
    {
     "data": {
      "image/png": "[encoded data removed]",
      "text/plain": [
       "<Figure size 1000x1000 with 2 Axes>"
      ]
     },
     "metadata": {},
     "output_type": "display_data"
    }
   ],
   "source": [
    "# Confusion matrix\n",
    "cm = cm = confusion_matrix(y_true, y_pred, labels=classes_labels)\n",
    "\n",
    "plt.figure(figsize= (10, 10))\n",
    "plt.imshow(cm, interpolation= 'nearest', cmap= plt.cm.Blues)\n",
    "plt.title('Confusion Matrix')\n",
    "plt.colorbar()\n",
    "\n",
    "tick_marks = np.arange(len(classes))\n",
    "plt.xticks(tick_marks, classes, rotation= 45)\n",
    "plt.yticks(tick_marks, classes)\n",
    "\n",
    "\n",
    "thresh = cm.max() / 2.\n",
    "for i, j in itertools.product(range(cm.shape[0]), range(cm.shape[1])):\n",
    "    plt.text(j, i, cm[i, j], horizontalalignment= 'center', color= 'white' if cm[i, j] > thresh else 'black')\n",
    "\n",
    "plt.tight_layout()\n",
    "plt.ylabel('True Label')\n",
    "plt.xlabel('Predicted Label')\n",
    "\n",
    "plt.show()"
   ]
  },
  {
   "cell_type": "markdown",
   "id": "ce620b33",
   "metadata": {
    "papermill": {
     "duration": 0.141878,
     "end_time": "2023-08-20T09:51:42.076501",
     "exception": false,
     "start_time": "2023-08-20T09:51:41.934623",
     "status": "completed"
    },
    "tags": []
   },
   "source": [
    "**Save model**"
   ]
  },
  {
   "cell_type": "code",
   "execution_count": 29,
   "id": "ef867178",
   "metadata": {
    "execution": {
     "iopub.execute_input": "2023-08-20T09:51:42.368564Z",
     "iopub.status.busy": "2023-08-20T09:51:42.368174Z",
     "iopub.status.idle": "2023-08-20T09:51:42.511963Z",
     "shell.execute_reply": "2023-08-20T09:51:42.510960Z"
    },
    "papermill": {
     "duration": 0.296316,
     "end_time": "2023-08-20T09:51:42.514397",
     "exception": false,
     "start_time": "2023-08-20T09:51:42.218081",
     "status": "completed"
    },
    "tags": []
   },
   "outputs": [],
   "source": [
    "#Save the model\n",
    "model.save('Skin_Cancer_DenseNet201.h5')"
   ]
  }
 ],
 "metadata": {
  "kernelspec": {
   "display_name": "Python 3 (ipykernel)",
   "language": "python",
   "name": "python3"
  },
  "language_info": {
   "codemirror_mode": {
    "name": "ipython",
    "version": 3
   },
   "file_extension": ".py",
   "mimetype": "text/x-python",
   "name": "python",
   "nbconvert_exporter": "python",
   "pygments_lexer": "ipython3",
   "version": "3.11.4"
  },
  "papermill": {
   "default_parameters": {},
   "duration": 197.810856,
   "end_time": "2023-08-20T09:51:46.327131",
   "environment_variables": {},
   "exception": null,
   "input_path": "__notebook__.ipynb",
   "output_path": "__notebook__.ipynb",
   "parameters": {},
   "start_time": "2023-08-20T09:48:28.516275",
   "version": "2.4.0"
  }
 },
 "nbformat": 4,
 "nbformat_minor": 5
}
